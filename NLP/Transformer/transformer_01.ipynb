{
  "nbformat": 4,
  "nbformat_minor": 0,
  "metadata": {
    "colab": {
      "provenance": []
    },
    "kernelspec": {
      "name": "python3",
      "display_name": "Python 3"
    }
  },
  "cells": [
    {
      "cell_type": "markdown",
      "metadata": {
        "id": "kJIRBmDqBiKH"
      },
      "source": [
        "## Transformer 구현 과정 (1/2)\n",
        "![](https://raw.githubusercontent.com/paul-hyun/paul-hyun.github.io/master/assets/2019-12-19/transformer-model-architecture.png)\n",
        "\n",
        "Transformer 모델 구현에 대한 설명 입니다.\n",
        "\n",
        "이 내용을 확인하기 전 아래 내용을 확인하시기 바랍니다.\n",
        "- [Sentencepiece를 활용해 Vocab 만들기](https://paul-hyun.github.io/vocab-with-sentencepiece/)\n",
        "- [Naver 영화리뷰 감정분석 데이터 전처리 하기](https://paul-hyun.github.io/preprocess-nsmc/)\n",
        "\n",
        "[Colab](https://colab.research.google.com/)에서 실행 했습니다."
      ]
    },
    {
      "cell_type": "markdown",
      "metadata": {
        "id": "ADHWimszCTQB"
      },
      "source": [
        "#### 0. Pip Install\n",
        "필요한 패키지를 pip를 이용해서 설치합니다."
      ]
    },
    {
      "cell_type": "code",
      "metadata": {
        "id": "GvyQ7eeZCV62",
        "outputId": "6c1fe9bf-1f24-4985-c6c8-8f4c7c8f0fd4",
        "colab": {
          "base_uri": "https://localhost:8080/"
        }
      },
      "source": [
        "!pip install sentencepiece"
      ],
      "execution_count": null,
      "outputs": [
        {
          "output_type": "stream",
          "name": "stdout",
          "text": [
            "Collecting sentencepiece\n",
            "  Downloading sentencepiece-0.1.99-cp310-cp310-manylinux_2_17_x86_64.manylinux2014_x86_64.whl (1.3 MB)\n",
            "\u001b[?25l     \u001b[90m━━━━━━━━━━━━━━━━━━━━━━━━━━━━━━━━━━━━━━━━\u001b[0m \u001b[32m0.0/1.3 MB\u001b[0m \u001b[31m?\u001b[0m eta \u001b[36m-:--:--\u001b[0m\r\u001b[2K     \u001b[91m━━━\u001b[0m\u001b[90m╺\u001b[0m\u001b[90m━━━━━━━━━━━━━━━━━━━━━━━━━━━━━━━━━━━━\u001b[0m \u001b[32m0.1/1.3 MB\u001b[0m \u001b[31m3.3 MB/s\u001b[0m eta \u001b[36m0:00:01\u001b[0m\r\u001b[2K     \u001b[91m━━━━━━━━━━━━━━━━━━━━━━━━━━━━━━━━━━━━━━\u001b[0m\u001b[90m╺\u001b[0m\u001b[90m━\u001b[0m \u001b[32m1.2/1.3 MB\u001b[0m \u001b[31m17.9 MB/s\u001b[0m eta \u001b[36m0:00:01\u001b[0m\r\u001b[2K     \u001b[90m━━━━━━━━━━━━━━━━━━━━━━━━━━━━━━━━━━━━━━━━\u001b[0m \u001b[32m1.3/1.3 MB\u001b[0m \u001b[31m15.4 MB/s\u001b[0m eta \u001b[36m0:00:00\u001b[0m\n",
            "\u001b[?25hInstalling collected packages: sentencepiece\n",
            "Successfully installed sentencepiece-0.1.99\n"
          ]
        }
      ]
    },
    {
      "cell_type": "markdown",
      "metadata": {
        "id": "FWT-P5l0CVde"
      },
      "source": [
        "#### 1. Google Drive Mount\n",
        "Colab에서는 컴퓨터에 자원에 접근이 불가능 하므로 Google Drive에 파일을 올려 놓은 후 Google Drive를 mount 에서 로컬 디스크처럼 사용 합니다.\n",
        "1. 아래 블럭을 실행하면 나타나는 링크를 클릭하세요.\n",
        "2. Google 계정을 선택 하시고 허용을 누르면 나타나는 코드를 복사하여 아래 박스에 입력한 후 Enter 키를 입력하면 됩니다.\n",
        "\n",
        "학습관련 [데이터 및 결과 파일](https://drive.google.com/open?id=15XGr-L-W6DSoR5TbniPMJASPsA0IDTiN)을 참고 하세요."
      ]
    },
    {
      "cell_type": "code",
      "metadata": {
        "id": "88wMq4r-CdoG",
        "outputId": "3e3614f0-4670-4699-e3fb-cc6961e8cfef",
        "colab": {
          "base_uri": "https://localhost:8080/"
        }
      },
      "source": [
        "from google.colab import drive\n",
        "drive.mount('/content/drive')\n",
        "# data를 저장할 폴더 입니다. 환경에 맞게 수정 하세요.\n",
        "data_dir = \"/content/drive/MyDrive/Colab Notebooks/CV_NLP_notebook/NLP/data/transformer-evolution\""
      ],
      "execution_count": null,
      "outputs": [
        {
          "output_type": "stream",
          "name": "stdout",
          "text": [
            "Mounted at /content/drive\n"
          ]
        }
      ]
    },
    {
      "cell_type": "markdown",
      "metadata": {
        "id": "Mw-viWEe_-gb"
      },
      "source": [
        "#### 2. Imports"
      ]
    },
    {
      "cell_type": "code",
      "metadata": {
        "id": "AALbOYMx_-Fj"
      },
      "source": [
        "import os\n",
        "import numpy as np\n",
        "import math\n",
        "import matplotlib.pyplot as plt\n",
        "import sentencepiece as spm\n",
        "\n",
        "import torch\n",
        "import torch.nn as nn\n",
        "import torch.nn.functional as F"
      ],
      "execution_count": null,
      "outputs": []
    },
    {
      "cell_type": "markdown",
      "metadata": {
        "id": "kOnh3BmoCzgh"
      },
      "source": [
        "#### 3. 폴더의 목록을 확인\n",
        "Google Drive mount가 잘 되었는지 확인하기 위해 data_dir 목록을 확인 합니다."
      ]
    },
    {
      "cell_type": "code",
      "metadata": {
        "id": "AtSMyMiqC1Zz",
        "outputId": "30a75eec-2615-47c8-80aa-f0d61a6fdbe1",
        "colab": {
          "base_uri": "https://localhost:8080/"
        }
      },
      "source": [
        "for f in os.listdir(data_dir):\n",
        "  print(f)"
      ],
      "execution_count": null,
      "outputs": [
        {
          "output_type": "stream",
          "name": "stdout",
          "text": [
            "kowiki.model\n",
            "kowiki.vocab\n",
            "ratings_train.txt\n",
            "ratings_test.txt\n",
            "ratings_train.json\n",
            "ratings_test.json\n",
            "save_gpt_pretrain.pth\n",
            "save_bert_pretrain.pth\n",
            "kowiki_t5.model\n",
            "kowiki_t5.vocab\n",
            "save_t5_pretrain.pth\n",
            "ratings_train_t5.json\n",
            "ratings_test_t5.json\n"
          ]
        }
      ]
    },
    {
      "cell_type": "markdown",
      "metadata": {
        "id": "8Ly5K7I8DMy0"
      },
      "source": [
        "#### 4. Vocab 및 입력\n",
        "[Sentencepiece를 활용해 Vocab 만들기](https://paul-hyun.github.io/vocab-with-sentencepiece/)를 통해 만들어 놓은 vocab을 로딩 합니다.\n",
        "\n",
        "로딩된 vocab을 이용해 input을 만듭니다."
      ]
    },
    {
      "cell_type": "code",
      "metadata": {
        "id": "S-ubyeJFDbot",
        "outputId": "a18f037a-c2bf-4277-f11d-4c3ac47dfc02",
        "colab": {
          "base_uri": "https://localhost:8080/"
        }
      },
      "source": [
        "# vocab loading\n",
        "vocab_file = f\"{data_dir}/kowiki.model\"\n",
        "vocab = spm.SentencePieceProcessor()\n",
        "vocab.load(vocab_file)\n",
        "\n",
        "# 입력 texts\n",
        "lines = [\n",
        "  \"추워요\",\n",
        "  \"겨울은 추워요.\",\n",
        "  \"감기 조심하세요.\"\n",
        "  \"문장을 길게하면 어떻게 될까\"\n",
        "]\n",
        "\n",
        "# text를 tensor로 변환\n",
        "inputs = []\n",
        "for line in lines:\n",
        "  pieces = vocab.encode_as_pieces(line)\n",
        "  ids = vocab.encode_as_ids(line)\n",
        "  inputs.append(torch.tensor(ids))\n",
        "  print(pieces)\n",
        "\n",
        "# 입력 길이가 다르므로 입력 최대 길이에 맟춰 padding(0)을 추가 해 줌\n",
        "inputs = torch.nn.utils.rnn.pad_sequence(inputs, batch_first=True, padding_value=0)\n",
        "# shape\n",
        "print(inputs.size())\n",
        "# 값\n",
        "print(inputs)"
      ],
      "execution_count": null,
      "outputs": [
        {
          "output_type": "stream",
          "name": "stdout",
          "text": [
            "['▁추', '워', '요']\n",
            "['▁겨울', '은', '▁추', '워', '요', '.']\n",
            "['▁감', '기', '▁조', '심', '하', '세', '요', '.', '문', '장을', '▁길', '게', '하면', '▁어떻게', '▁될', '까']\n",
            "torch.Size([3, 16])\n",
            "tensor([[ 206, 3958, 3760,    0,    0,    0,    0,    0,    0,    0,    0,    0,\n",
            "            0,    0,    0,    0],\n",
            "        [3091, 3604,  206, 3958, 3760, 3590,    0,    0,    0,    0,    0,    0,\n",
            "            0,    0,    0,    0],\n",
            "        [ 212, 3605,   53, 3832, 3596, 3682, 3760, 3590, 3688,  482,  556, 3660,\n",
            "          599, 3527, 1450, 3794]])\n"
          ]
        }
      ]
    },
    {
      "cell_type": "markdown",
      "metadata": {
        "id": "wOqt_-1p_Z2L"
      },
      "source": [
        "#### 5. Embedding"
      ]
    },
    {
      "cell_type": "markdown",
      "metadata": {
        "id": "aAz1I-mG_dSQ"
      },
      "source": [
        "###### - Input Embedding"
      ]
    },
    {
      "cell_type": "code",
      "source": [
        "len(vocab)"
      ],
      "metadata": {
        "colab": {
          "base_uri": "https://localhost:8080/"
        },
        "id": "3zOP7hutX5yt",
        "outputId": "87034308-8c7e-4949-e712-312e6ef66555"
      },
      "execution_count": null,
      "outputs": [
        {
          "output_type": "execute_result",
          "data": {
            "text/plain": [
              "8007"
            ]
          },
          "metadata": {},
          "execution_count": 6
        }
      ]
    },
    {
      "cell_type": "code",
      "metadata": {
        "id": "7bjcpE8Z-208",
        "outputId": "f857c43b-6004-47cc-acbf-42a7251d0ccc",
        "colab": {
          "base_uri": "https://localhost:8080/"
        }
      },
      "source": [
        "n_vocab = len(vocab) # vocab count\n",
        "d_hidn = 128 # hidden size\n",
        "nn_emb = nn.Embedding(n_vocab, d_hidn) # embedding 객체\n",
        "\n",
        "input_embs = nn_emb(inputs) # input embedding\n",
        "print(input_embs.size())"
      ],
      "execution_count": null,
      "outputs": [
        {
          "output_type": "stream",
          "name": "stdout",
          "text": [
            "torch.Size([3, 16, 128])\n"
          ]
        }
      ]
    },
    {
      "cell_type": "markdown",
      "metadata": {
        "id": "EBriAmpB_cHQ"
      },
      "source": [
        "###### - Position Embedding"
      ]
    },
    {
      "cell_type": "code",
      "metadata": {
        "id": "NlCmyZrkPuOX"
      },
      "source": [
        "\"\"\" sinusoid position embedding \"\"\"\n",
        "def get_sinusoid_encoding_table(n_seq, d_hidn):\n",
        "    def cal_angle(position, i_hidn):\n",
        "        return position / np.power(10000, 2 * (i_hidn // 2) / d_hidn)\n",
        "    def get_posi_angle_vec(position):\n",
        "        return [cal_angle(position, i_hidn) for i_hidn in range(d_hidn)]\n",
        "\n",
        "    sinusoid_table = np.array([get_posi_angle_vec(i_seq) for i_seq in range(n_seq)])\n",
        "    sinusoid_table[:, 0::2] = np.sin(sinusoid_table[:, 0::2])  # dim 2i\n",
        "    sinusoid_table[:, 1::2] = np.cos(sinusoid_table[:, 1::2])  # dim 2i+1\n",
        "\n",
        "    return sinusoid_table"
      ],
      "execution_count": null,
      "outputs": []
    },
    {
      "cell_type": "code",
      "metadata": {
        "id": "x_MrxrxqVyra",
        "outputId": "45fe8f52-febf-4055-fb83-c1b0ea4da672",
        "colab": {
          "base_uri": "https://localhost:8080/",
          "height": 473
        }
      },
      "source": [
        "n_seq = 64\n",
        "pos_encoding = get_sinusoid_encoding_table(n_seq, d_hidn)\n",
        "\n",
        "print (pos_encoding.shape) # 크기 출력\n",
        "plt.pcolormesh(pos_encoding, cmap='RdBu')\n",
        "plt.xlabel('Depth')\n",
        "plt.xlim((0, d_hidn))\n",
        "plt.ylabel('Position')\n",
        "plt.colorbar()\n",
        "plt.show()"
      ],
      "execution_count": null,
      "outputs": [
        {
          "output_type": "stream",
          "name": "stdout",
          "text": [
            "(64, 128)\n"
          ]
        },
        {
          "output_type": "display_data",
          "data": {
            "text/plain": [
              "<Figure size 640x480 with 2 Axes>"
            ],
            "image/png": "[encoded data removed]"
          },
          "metadata": {}
        }
      ]
    },
    {
      "cell_type": "code",
      "source": [
        "inputs.size(1)"
      ],
      "metadata": {
        "colab": {
          "base_uri": "https://localhost:8080/"
        },
        "id": "b4LgkAjSYEjM",
        "outputId": "e8383c0d-9f4e-42aa-c86e-adf9019f1ac0"
      },
      "execution_count": null,
      "outputs": [
        {
          "output_type": "execute_result",
          "data": {
            "text/plain": [
              "16"
            ]
          },
          "metadata": {},
          "execution_count": 37
        }
      ]
    },
    {
      "cell_type": "code",
      "metadata": {
        "id": "GmeDRFKqikMy",
        "outputId": "a8ac04f5-3bbd-49cf-d942-f76b91e89a13",
        "colab": {
          "base_uri": "https://localhost:8080/"
        }
      },
      "source": [
        "pos_encoding = torch.FloatTensor(pos_encoding)\n",
        "nn_pos = nn.Embedding.from_pretrained(pos_encoding, freeze=True)\n",
        "\n",
        "positions = torch.arange(inputs.size(1), device=inputs.device, dtype=inputs.dtype).expand(inputs.size(0), inputs.size(1)).contiguous() + 1\n",
        "pos_mask = inputs.eq(0)\n",
        "\n",
        "positions.masked_fill_(pos_mask, 0)\n",
        "pos_embs = nn_pos(positions) # position embedding\n",
        "\n",
        "print(inputs)\n",
        "print(positions)\n",
        "print(pos_embs.size())"
      ],
      "execution_count": null,
      "outputs": [
        {
          "output_type": "stream",
          "name": "stdout",
          "text": [
            "tensor([[ 206, 3958, 3760,    0,    0,    0,    0,    0,    0,    0,    0,    0,\n",
            "            0,    0,    0,    0],\n",
            "        [3091, 3604,  206, 3958, 3760, 3590,    0,    0,    0,    0,    0,    0,\n",
            "            0,    0,    0,    0],\n",
            "        [ 212, 3605,   53, 3832, 3596, 3682, 3760, 3590, 3688,  482,  556, 3660,\n",
            "          599, 3527, 1450, 3794]])\n",
            "tensor([[ 1,  2,  3,  0,  0,  0,  0,  0,  0,  0,  0,  0,  0,  0,  0,  0],\n",
            "        [ 1,  2,  3,  4,  5,  6,  0,  0,  0,  0,  0,  0,  0,  0,  0,  0],\n",
            "        [ 1,  2,  3,  4,  5,  6,  7,  8,  9, 10, 11, 12, 13, 14, 15, 16]])\n",
            "torch.Size([3, 16, 128])\n"
          ]
        }
      ]
    },
    {
      "cell_type": "code",
      "metadata": {
        "id": "ZX63wiFfruY7"
      },
      "source": [
        "input_sums = input_embs + pos_embs"
      ],
      "execution_count": null,
      "outputs": []
    },
    {
      "cell_type": "markdown",
      "metadata": {
        "id": "rOYl2XUyt2xc"
      },
      "source": [
        "#### 6. Scale Dot Product Attention\n",
        "\n",
        "![](https://raw.githubusercontent.com/paul-hyun/paul-hyun.github.io/master/assets/2019-12-19/scale_dot_product_attention.png)"
      ]
    },
    {
      "cell_type": "markdown",
      "metadata": {
        "id": "Exfnhn9vA1fl"
      },
      "source": [
        "###### Input"
      ]
    },
    {
      "cell_type": "code",
      "source": [
        "input_sums.shape"
      ],
      "metadata": {
        "colab": {
          "base_uri": "https://localhost:8080/"
        },
        "id": "PMwUMzGpYgO5",
        "outputId": "10089b7c-ca0e-4705-ac9c-b7708ac1b60e"
      },
      "execution_count": null,
      "outputs": [
        {
          "output_type": "execute_result",
          "data": {
            "text/plain": [
              "torch.Size([3, 16, 128])"
            ]
          },
          "metadata": {},
          "execution_count": 42
        }
      ]
    },
    {
      "cell_type": "code",
      "source": [
        "inputs.eq(0).unsqueeze(1).expand(3, 20, 16).shape"
      ],
      "metadata": {
        "colab": {
          "base_uri": "https://localhost:8080/"
        },
        "id": "iVIH1LRsYsFK",
        "outputId": "f58f9494-ab11-479f-bf66-7c6b11a5363c"
      },
      "execution_count": null,
      "outputs": [
        {
          "output_type": "execute_result",
          "data": {
            "text/plain": [
              "torch.Size([3, 20, 16])"
            ]
          },
          "metadata": {},
          "execution_count": 52
        }
      ]
    },
    {
      "cell_type": "code",
      "metadata": {
        "id": "aaUTzxeSunt9",
        "outputId": "31ae9665-ba68-4359-c83c-f2c07a5adba4",
        "colab": {
          "base_uri": "https://localhost:8080/"
        }
      },
      "source": [
        "Q = input_sums\n",
        "K = input_sums\n",
        "V = input_sums\n",
        "print(Q.shape, K.shape, V.shape)\n",
        "\n",
        "attn_mask = inputs.eq(0).unsqueeze(1).expand(Q.size(0), Q.size(1), K.size(1))\n",
        "print(attn_mask.size())\n",
        "print(attn_mask[0])\n",
        "print(attn_mask.shape)"
      ],
      "execution_count": null,
      "outputs": [
        {
          "output_type": "stream",
          "name": "stdout",
          "text": [
            "torch.Size([3, 16, 128]) torch.Size([3, 16, 128]) torch.Size([3, 16, 128])\n",
            "torch.Size([3, 16, 16])\n",
            "tensor([[False, False, False,  True,  True,  True,  True,  True,  True,  True,\n",
            "          True,  True,  True,  True,  True,  True],\n",
            "        [False, False, False,  True,  True,  True,  True,  True,  True,  True,\n",
            "          True,  True,  True,  True,  True,  True],\n",
            "        [False, False, False,  True,  True,  True,  True,  True,  True,  True,\n",
            "          True,  True,  True,  True,  True,  True],\n",
            "        [False, False, False,  True,  True,  True,  True,  True,  True,  True,\n",
            "          True,  True,  True,  True,  True,  True],\n",
            "        [False, False, False,  True,  True,  True,  True,  True,  True,  True,\n",
            "          True,  True,  True,  True,  True,  True],\n",
            "        [False, False, False,  True,  True,  True,  True,  True,  True,  True,\n",
            "          True,  True,  True,  True,  True,  True],\n",
            "        [False, False, False,  True,  True,  True,  True,  True,  True,  True,\n",
            "          True,  True,  True,  True,  True,  True],\n",
            "        [False, False, False,  True,  True,  True,  True,  True,  True,  True,\n",
            "          True,  True,  True,  True,  True,  True],\n",
            "        [False, False, False,  True,  True,  True,  True,  True,  True,  True,\n",
            "          True,  True,  True,  True,  True,  True],\n",
            "        [False, False, False,  True,  True,  True,  True,  True,  True,  True,\n",
            "          True,  True,  True,  True,  True,  True],\n",
            "        [False, False, False,  True,  True,  True,  True,  True,  True,  True,\n",
            "          True,  True,  True,  True,  True,  True],\n",
            "        [False, False, False,  True,  True,  True,  True,  True,  True,  True,\n",
            "          True,  True,  True,  True,  True,  True],\n",
            "        [False, False, False,  True,  True,  True,  True,  True,  True,  True,\n",
            "          True,  True,  True,  True,  True,  True],\n",
            "        [False, False, False,  True,  True,  True,  True,  True,  True,  True,\n",
            "          True,  True,  True,  True,  True,  True],\n",
            "        [False, False, False,  True,  True,  True,  True,  True,  True,  True,\n",
            "          True,  True,  True,  True,  True,  True],\n",
            "        [False, False, False,  True,  True,  True,  True,  True,  True,  True,\n",
            "          True,  True,  True,  True,  True,  True]])\n",
            "torch.Size([3, 16, 16])\n"
          ]
        }
      ]
    },
    {
      "cell_type": "markdown",
      "metadata": {
        "id": "st1N5098A7e1"
      },
      "source": [
        "##### Q * K-transpose"
      ]
    },
    {
      "cell_type": "code",
      "metadata": {
        "id": "DQmtb8hcxK1k",
        "outputId": "e06d6eef-1c1c-44b5-c188-af86b62c4a0c",
        "colab": {
          "base_uri": "https://localhost:8080/"
        }
      },
      "source": [
        "scores = torch.matmul(Q, K.transpose(-1, -2))\n",
        "print(scores.size())\n",
        "print(scores[0])"
      ],
      "execution_count": null,
      "outputs": [
        {
          "output_type": "stream",
          "name": "stdout",
          "text": [
            "torch.Size([3, 16, 16])\n",
            "tensor([[183.5957,  58.9551,  45.1199,  56.6653,  56.6653,  56.6653,  56.6653,\n",
            "          56.6653,  56.6653,  56.6653,  56.6653,  56.6653,  56.6653,  56.6653,\n",
            "          56.6653,  56.6653],\n",
            "        [ 58.9551, 195.9087,  84.8812,  57.6813,  57.6813,  57.6813,  57.6813,\n",
            "          57.6813,  57.6813,  57.6813,  57.6813,  57.6813,  57.6813,  57.6813,\n",
            "          57.6813,  57.6813],\n",
            "        [ 45.1199,  84.8812, 197.4494,  33.2984,  33.2984,  33.2984,  33.2984,\n",
            "          33.2984,  33.2984,  33.2984,  33.2984,  33.2984,  33.2984,  33.2984,\n",
            "          33.2984,  33.2984],\n",
            "        [ 56.6653,  57.6813,  33.2984, 152.6768, 152.6768, 152.6768, 152.6768,\n",
            "         152.6768, 152.6768, 152.6768, 152.6768, 152.6768, 152.6768, 152.6768,\n",
            "         152.6768, 152.6768],\n",
            "        [ 56.6653,  57.6813,  33.2984, 152.6768, 152.6768, 152.6768, 152.6768,\n",
            "         152.6768, 152.6768, 152.6768, 152.6768, 152.6768, 152.6768, 152.6768,\n",
            "         152.6768, 152.6768],\n",
            "        [ 56.6653,  57.6813,  33.2984, 152.6768, 152.6768, 152.6768, 152.6768,\n",
            "         152.6768, 152.6768, 152.6768, 152.6768, 152.6768, 152.6768, 152.6768,\n",
            "         152.6768, 152.6768],\n",
            "        [ 56.6653,  57.6813,  33.2984, 152.6768, 152.6768, 152.6768, 152.6768,\n",
            "         152.6768, 152.6768, 152.6768, 152.6768, 152.6768, 152.6768, 152.6768,\n",
            "         152.6768, 152.6768],\n",
            "        [ 56.6653,  57.6813,  33.2984, 152.6768, 152.6768, 152.6768, 152.6768,\n",
            "         152.6768, 152.6768, 152.6768, 152.6768, 152.6768, 152.6768, 152.6768,\n",
            "         152.6768, 152.6768],\n",
            "        [ 56.6653,  57.6813,  33.2984, 152.6768, 152.6768, 152.6768, 152.6768,\n",
            "         152.6768, 152.6768, 152.6768, 152.6768, 152.6768, 152.6768, 152.6768,\n",
            "         152.6768, 152.6768],\n",
            "        [ 56.6653,  57.6813,  33.2984, 152.6768, 152.6768, 152.6768, 152.6768,\n",
            "         152.6768, 152.6768, 152.6768, 152.6768, 152.6768, 152.6768, 152.6768,\n",
            "         152.6768, 152.6768],\n",
            "        [ 56.6653,  57.6813,  33.2984, 152.6768, 152.6768, 152.6768, 152.6768,\n",
            "         152.6768, 152.6768, 152.6768, 152.6768, 152.6768, 152.6768, 152.6768,\n",
            "         152.6768, 152.6768],\n",
            "        [ 56.6653,  57.6813,  33.2984, 152.6768, 152.6768, 152.6768, 152.6768,\n",
            "         152.6768, 152.6768, 152.6768, 152.6768, 152.6768, 152.6768, 152.6768,\n",
            "         152.6768, 152.6768],\n",
            "        [ 56.6653,  57.6813,  33.2984, 152.6768, 152.6768, 152.6768, 152.6768,\n",
            "         152.6768, 152.6768, 152.6768, 152.6768, 152.6768, 152.6768, 152.6768,\n",
            "         152.6768, 152.6768],\n",
            "        [ 56.6653,  57.6813,  33.2984, 152.6768, 152.6768, 152.6768, 152.6768,\n",
            "         152.6768, 152.6768, 152.6768, 152.6768, 152.6768, 152.6768, 152.6768,\n",
            "         152.6768, 152.6768],\n",
            "        [ 56.6653,  57.6813,  33.2984, 152.6768, 152.6768, 152.6768, 152.6768,\n",
            "         152.6768, 152.6768, 152.6768, 152.6768, 152.6768, 152.6768, 152.6768,\n",
            "         152.6768, 152.6768],\n",
            "        [ 56.6653,  57.6813,  33.2984, 152.6768, 152.6768, 152.6768, 152.6768,\n",
            "         152.6768, 152.6768, 152.6768, 152.6768, 152.6768, 152.6768, 152.6768,\n",
            "         152.6768, 152.6768]], grad_fn=<SelectBackward0>)\n"
          ]
        }
      ]
    },
    {
      "cell_type": "markdown",
      "metadata": {
        "id": "2e7jrCXpBCyS"
      },
      "source": [
        "###### Scale"
      ]
    },
    {
      "cell_type": "code",
      "metadata": {
        "id": "tS_LXRbY5hcK",
        "outputId": "c8f44a31-7210-4088-9f7b-2e9dcc70511c",
        "colab": {
          "base_uri": "https://localhost:8080/"
        }
      },
      "source": [
        "d_head = 64\n",
        "scores = scores.mul_(1/d_head**0.5)\n",
        "print(scores.size())\n",
        "print(scores[0])"
      ],
      "execution_count": null,
      "outputs": [
        {
          "output_type": "stream",
          "name": "stdout",
          "text": [
            "torch.Size([3, 16, 16])\n",
            "tensor([[22.9495,  7.3694,  5.6400,  7.0832,  7.0832,  7.0832,  7.0832,  7.0832,\n",
            "          7.0832,  7.0832,  7.0832,  7.0832,  7.0832,  7.0832,  7.0832,  7.0832],\n",
            "        [ 7.3694, 24.4886, 10.6102,  7.2102,  7.2102,  7.2102,  7.2102,  7.2102,\n",
            "          7.2102,  7.2102,  7.2102,  7.2102,  7.2102,  7.2102,  7.2102,  7.2102],\n",
            "        [ 5.6400, 10.6102, 24.6812,  4.1623,  4.1623,  4.1623,  4.1623,  4.1623,\n",
            "          4.1623,  4.1623,  4.1623,  4.1623,  4.1623,  4.1623,  4.1623,  4.1623],\n",
            "        [ 7.0832,  7.2102,  4.1623, 19.0846, 19.0846, 19.0846, 19.0846, 19.0846,\n",
            "         19.0846, 19.0846, 19.0846, 19.0846, 19.0846, 19.0846, 19.0846, 19.0846],\n",
            "        [ 7.0832,  7.2102,  4.1623, 19.0846, 19.0846, 19.0846, 19.0846, 19.0846,\n",
            "         19.0846, 19.0846, 19.0846, 19.0846, 19.0846, 19.0846, 19.0846, 19.0846],\n",
            "        [ 7.0832,  7.2102,  4.1623, 19.0846, 19.0846, 19.0846, 19.0846, 19.0846,\n",
            "         19.0846, 19.0846, 19.0846, 19.0846, 19.0846, 19.0846, 19.0846, 19.0846],\n",
            "        [ 7.0832,  7.2102,  4.1623, 19.0846, 19.0846, 19.0846, 19.0846, 19.0846,\n",
            "         19.0846, 19.0846, 19.0846, 19.0846, 19.0846, 19.0846, 19.0846, 19.0846],\n",
            "        [ 7.0832,  7.2102,  4.1623, 19.0846, 19.0846, 19.0846, 19.0846, 19.0846,\n",
            "         19.0846, 19.0846, 19.0846, 19.0846, 19.0846, 19.0846, 19.0846, 19.0846],\n",
            "        [ 7.0832,  7.2102,  4.1623, 19.0846, 19.0846, 19.0846, 19.0846, 19.0846,\n",
            "         19.0846, 19.0846, 19.0846, 19.0846, 19.0846, 19.0846, 19.0846, 19.0846],\n",
            "        [ 7.0832,  7.2102,  4.1623, 19.0846, 19.0846, 19.0846, 19.0846, 19.0846,\n",
            "         19.0846, 19.0846, 19.0846, 19.0846, 19.0846, 19.0846, 19.0846, 19.0846],\n",
            "        [ 7.0832,  7.2102,  4.1623, 19.0846, 19.0846, 19.0846, 19.0846, 19.0846,\n",
            "         19.0846, 19.0846, 19.0846, 19.0846, 19.0846, 19.0846, 19.0846, 19.0846],\n",
            "        [ 7.0832,  7.2102,  4.1623, 19.0846, 19.0846, 19.0846, 19.0846, 19.0846,\n",
            "         19.0846, 19.0846, 19.0846, 19.0846, 19.0846, 19.0846, 19.0846, 19.0846],\n",
            "        [ 7.0832,  7.2102,  4.1623, 19.0846, 19.0846, 19.0846, 19.0846, 19.0846,\n",
            "         19.0846, 19.0846, 19.0846, 19.0846, 19.0846, 19.0846, 19.0846, 19.0846],\n",
            "        [ 7.0832,  7.2102,  4.1623, 19.0846, 19.0846, 19.0846, 19.0846, 19.0846,\n",
            "         19.0846, 19.0846, 19.0846, 19.0846, 19.0846, 19.0846, 19.0846, 19.0846],\n",
            "        [ 7.0832,  7.2102,  4.1623, 19.0846, 19.0846, 19.0846, 19.0846, 19.0846,\n",
            "         19.0846, 19.0846, 19.0846, 19.0846, 19.0846, 19.0846, 19.0846, 19.0846],\n",
            "        [ 7.0832,  7.2102,  4.1623, 19.0846, 19.0846, 19.0846, 19.0846, 19.0846,\n",
            "         19.0846, 19.0846, 19.0846, 19.0846, 19.0846, 19.0846, 19.0846, 19.0846]],\n",
            "       grad_fn=<SelectBackward0>)\n"
          ]
        }
      ]
    },
    {
      "cell_type": "markdown",
      "metadata": {
        "id": "lnQ7phqTBGJG"
      },
      "source": [
        "###### Mask (Opt.)"
      ]
    },
    {
      "cell_type": "code",
      "metadata": {
        "id": "BENnRJdKxits",
        "outputId": "026dfa38-ef9b-4f47-fe6e-464ef0d6d11a",
        "colab": {
          "base_uri": "https://localhost:8080/"
        }
      },
      "source": [
        "scores.masked_fill_(attn_mask, -1e9)\n",
        "print(scores.size())\n",
        "print(scores[0])"
      ],
      "execution_count": null,
      "outputs": [
        {
          "output_type": "stream",
          "name": "stdout",
          "text": [
            "torch.Size([3, 16, 16])\n",
            "tensor([[ 2.2949e+01,  7.3694e+00,  5.6400e+00, -1.0000e+09, -1.0000e+09,\n",
            "         -1.0000e+09, -1.0000e+09, -1.0000e+09, -1.0000e+09, -1.0000e+09,\n",
            "         -1.0000e+09, -1.0000e+09, -1.0000e+09, -1.0000e+09, -1.0000e+09,\n",
            "         -1.0000e+09],\n",
            "        [ 7.3694e+00,  2.4489e+01,  1.0610e+01, -1.0000e+09, -1.0000e+09,\n",
            "         -1.0000e+09, -1.0000e+09, -1.0000e+09, -1.0000e+09, -1.0000e+09,\n",
            "         -1.0000e+09, -1.0000e+09, -1.0000e+09, -1.0000e+09, -1.0000e+09,\n",
            "         -1.0000e+09],\n",
            "        [ 5.6400e+00,  1.0610e+01,  2.4681e+01, -1.0000e+09, -1.0000e+09,\n",
            "         -1.0000e+09, -1.0000e+09, -1.0000e+09, -1.0000e+09, -1.0000e+09,\n",
            "         -1.0000e+09, -1.0000e+09, -1.0000e+09, -1.0000e+09, -1.0000e+09,\n",
            "         -1.0000e+09],\n",
            "        [ 7.0832e+00,  7.2102e+00,  4.1623e+00, -1.0000e+09, -1.0000e+09,\n",
            "         -1.0000e+09, -1.0000e+09, -1.0000e+09, -1.0000e+09, -1.0000e+09,\n",
            "         -1.0000e+09, -1.0000e+09, -1.0000e+09, -1.0000e+09, -1.0000e+09,\n",
            "         -1.0000e+09],\n",
            "        [ 7.0832e+00,  7.2102e+00,  4.1623e+00, -1.0000e+09, -1.0000e+09,\n",
            "         -1.0000e+09, -1.0000e+09, -1.0000e+09, -1.0000e+09, -1.0000e+09,\n",
            "         -1.0000e+09, -1.0000e+09, -1.0000e+09, -1.0000e+09, -1.0000e+09,\n",
            "         -1.0000e+09],\n",
            "        [ 7.0832e+00,  7.2102e+00,  4.1623e+00, -1.0000e+09, -1.0000e+09,\n",
            "         -1.0000e+09, -1.0000e+09, -1.0000e+09, -1.0000e+09, -1.0000e+09,\n",
            "         -1.0000e+09, -1.0000e+09, -1.0000e+09, -1.0000e+09, -1.0000e+09,\n",
            "         -1.0000e+09],\n",
            "        [ 7.0832e+00,  7.2102e+00,  4.1623e+00, -1.0000e+09, -1.0000e+09,\n",
            "         -1.0000e+09, -1.0000e+09, -1.0000e+09, -1.0000e+09, -1.0000e+09,\n",
            "         -1.0000e+09, -1.0000e+09, -1.0000e+09, -1.0000e+09, -1.0000e+09,\n",
            "         -1.0000e+09],\n",
            "        [ 7.0832e+00,  7.2102e+00,  4.1623e+00, -1.0000e+09, -1.0000e+09,\n",
            "         -1.0000e+09, -1.0000e+09, -1.0000e+09, -1.0000e+09, -1.0000e+09,\n",
            "         -1.0000e+09, -1.0000e+09, -1.0000e+09, -1.0000e+09, -1.0000e+09,\n",
            "         -1.0000e+09],\n",
            "        [ 7.0832e+00,  7.2102e+00,  4.1623e+00, -1.0000e+09, -1.0000e+09,\n",
            "         -1.0000e+09, -1.0000e+09, -1.0000e+09, -1.0000e+09, -1.0000e+09,\n",
            "         -1.0000e+09, -1.0000e+09, -1.0000e+09, -1.0000e+09, -1.0000e+09,\n",
            "         -1.0000e+09],\n",
            "        [ 7.0832e+00,  7.2102e+00,  4.1623e+00, -1.0000e+09, -1.0000e+09,\n",
            "         -1.0000e+09, -1.0000e+09, -1.0000e+09, -1.0000e+09, -1.0000e+09,\n",
            "         -1.0000e+09, -1.0000e+09, -1.0000e+09, -1.0000e+09, -1.0000e+09,\n",
            "         -1.0000e+09],\n",
            "        [ 7.0832e+00,  7.2102e+00,  4.1623e+00, -1.0000e+09, -1.0000e+09,\n",
            "         -1.0000e+09, -1.0000e+09, -1.0000e+09, -1.0000e+09, -1.0000e+09,\n",
            "         -1.0000e+09, -1.0000e+09, -1.0000e+09, -1.0000e+09, -1.0000e+09,\n",
            "         -1.0000e+09],\n",
            "        [ 7.0832e+00,  7.2102e+00,  4.1623e+00, -1.0000e+09, -1.0000e+09,\n",
            "         -1.0000e+09, -1.0000e+09, -1.0000e+09, -1.0000e+09, -1.0000e+09,\n",
            "         -1.0000e+09, -1.0000e+09, -1.0000e+09, -1.0000e+09, -1.0000e+09,\n",
            "         -1.0000e+09],\n",
            "        [ 7.0832e+00,  7.2102e+00,  4.1623e+00, -1.0000e+09, -1.0000e+09,\n",
            "         -1.0000e+09, -1.0000e+09, -1.0000e+09, -1.0000e+09, -1.0000e+09,\n",
            "         -1.0000e+09, -1.0000e+09, -1.0000e+09, -1.0000e+09, -1.0000e+09,\n",
            "         -1.0000e+09],\n",
            "        [ 7.0832e+00,  7.2102e+00,  4.1623e+00, -1.0000e+09, -1.0000e+09,\n",
            "         -1.0000e+09, -1.0000e+09, -1.0000e+09, -1.0000e+09, -1.0000e+09,\n",
            "         -1.0000e+09, -1.0000e+09, -1.0000e+09, -1.0000e+09, -1.0000e+09,\n",
            "         -1.0000e+09],\n",
            "        [ 7.0832e+00,  7.2102e+00,  4.1623e+00, -1.0000e+09, -1.0000e+09,\n",
            "         -1.0000e+09, -1.0000e+09, -1.0000e+09, -1.0000e+09, -1.0000e+09,\n",
            "         -1.0000e+09, -1.0000e+09, -1.0000e+09, -1.0000e+09, -1.0000e+09,\n",
            "         -1.0000e+09],\n",
            "        [ 7.0832e+00,  7.2102e+00,  4.1623e+00, -1.0000e+09, -1.0000e+09,\n",
            "         -1.0000e+09, -1.0000e+09, -1.0000e+09, -1.0000e+09, -1.0000e+09,\n",
            "         -1.0000e+09, -1.0000e+09, -1.0000e+09, -1.0000e+09, -1.0000e+09,\n",
            "         -1.0000e+09]], grad_fn=<SelectBackward0>)\n"
          ]
        }
      ]
    },
    {
      "cell_type": "markdown",
      "metadata": {
        "id": "GaAzVRmhBJ3B"
      },
      "source": [
        "###### Softmax"
      ]
    },
    {
      "cell_type": "code",
      "metadata": {
        "id": "HKl9riPRxqkj",
        "outputId": "6334cede-4957-4b0c-e0c5-ede572ae528f",
        "colab": {
          "base_uri": "https://localhost:8080/"
        }
      },
      "source": [
        "attn_prob = nn.Softmax(dim=-1)(scores)\n",
        "print(attn_prob.size())\n",
        "print(attn_prob[0])"
      ],
      "execution_count": null,
      "outputs": [
        {
          "output_type": "stream",
          "name": "stdout",
          "text": [
            "torch.Size([3, 16, 16])\n",
            "tensor([[1.0000e+00, 1.7126e-07, 3.0380e-08, 0.0000e+00, 0.0000e+00, 0.0000e+00,\n",
            "         0.0000e+00, 0.0000e+00, 0.0000e+00, 0.0000e+00, 0.0000e+00, 0.0000e+00,\n",
            "         0.0000e+00, 0.0000e+00, 0.0000e+00, 0.0000e+00],\n",
            "        [3.6747e-08, 1.0000e+00, 9.3902e-07, 0.0000e+00, 0.0000e+00, 0.0000e+00,\n",
            "         0.0000e+00, 0.0000e+00, 0.0000e+00, 0.0000e+00, 0.0000e+00, 0.0000e+00,\n",
            "         0.0000e+00, 0.0000e+00, 0.0000e+00, 0.0000e+00],\n",
            "        [5.3767e-09, 7.7452e-07, 1.0000e+00, 0.0000e+00, 0.0000e+00, 0.0000e+00,\n",
            "         0.0000e+00, 0.0000e+00, 0.0000e+00, 0.0000e+00, 0.0000e+00, 0.0000e+00,\n",
            "         0.0000e+00, 0.0000e+00, 0.0000e+00, 0.0000e+00],\n",
            "        [4.5677e-01, 5.1862e-01, 2.4614e-02, 0.0000e+00, 0.0000e+00, 0.0000e+00,\n",
            "         0.0000e+00, 0.0000e+00, 0.0000e+00, 0.0000e+00, 0.0000e+00, 0.0000e+00,\n",
            "         0.0000e+00, 0.0000e+00, 0.0000e+00, 0.0000e+00],\n",
            "        [4.5677e-01, 5.1862e-01, 2.4614e-02, 0.0000e+00, 0.0000e+00, 0.0000e+00,\n",
            "         0.0000e+00, 0.0000e+00, 0.0000e+00, 0.0000e+00, 0.0000e+00, 0.0000e+00,\n",
            "         0.0000e+00, 0.0000e+00, 0.0000e+00, 0.0000e+00],\n",
            "        [4.5677e-01, 5.1862e-01, 2.4614e-02, 0.0000e+00, 0.0000e+00, 0.0000e+00,\n",
            "         0.0000e+00, 0.0000e+00, 0.0000e+00, 0.0000e+00, 0.0000e+00, 0.0000e+00,\n",
            "         0.0000e+00, 0.0000e+00, 0.0000e+00, 0.0000e+00],\n",
            "        [4.5677e-01, 5.1862e-01, 2.4614e-02, 0.0000e+00, 0.0000e+00, 0.0000e+00,\n",
            "         0.0000e+00, 0.0000e+00, 0.0000e+00, 0.0000e+00, 0.0000e+00, 0.0000e+00,\n",
            "         0.0000e+00, 0.0000e+00, 0.0000e+00, 0.0000e+00],\n",
            "        [4.5677e-01, 5.1862e-01, 2.4614e-02, 0.0000e+00, 0.0000e+00, 0.0000e+00,\n",
            "         0.0000e+00, 0.0000e+00, 0.0000e+00, 0.0000e+00, 0.0000e+00, 0.0000e+00,\n",
            "         0.0000e+00, 0.0000e+00, 0.0000e+00, 0.0000e+00],\n",
            "        [4.5677e-01, 5.1862e-01, 2.4614e-02, 0.0000e+00, 0.0000e+00, 0.0000e+00,\n",
            "         0.0000e+00, 0.0000e+00, 0.0000e+00, 0.0000e+00, 0.0000e+00, 0.0000e+00,\n",
            "         0.0000e+00, 0.0000e+00, 0.0000e+00, 0.0000e+00],\n",
            "        [4.5677e-01, 5.1862e-01, 2.4614e-02, 0.0000e+00, 0.0000e+00, 0.0000e+00,\n",
            "         0.0000e+00, 0.0000e+00, 0.0000e+00, 0.0000e+00, 0.0000e+00, 0.0000e+00,\n",
            "         0.0000e+00, 0.0000e+00, 0.0000e+00, 0.0000e+00],\n",
            "        [4.5677e-01, 5.1862e-01, 2.4614e-02, 0.0000e+00, 0.0000e+00, 0.0000e+00,\n",
            "         0.0000e+00, 0.0000e+00, 0.0000e+00, 0.0000e+00, 0.0000e+00, 0.0000e+00,\n",
            "         0.0000e+00, 0.0000e+00, 0.0000e+00, 0.0000e+00],\n",
            "        [4.5677e-01, 5.1862e-01, 2.4614e-02, 0.0000e+00, 0.0000e+00, 0.0000e+00,\n",
            "         0.0000e+00, 0.0000e+00, 0.0000e+00, 0.0000e+00, 0.0000e+00, 0.0000e+00,\n",
            "         0.0000e+00, 0.0000e+00, 0.0000e+00, 0.0000e+00],\n",
            "        [4.5677e-01, 5.1862e-01, 2.4614e-02, 0.0000e+00, 0.0000e+00, 0.0000e+00,\n",
            "         0.0000e+00, 0.0000e+00, 0.0000e+00, 0.0000e+00, 0.0000e+00, 0.0000e+00,\n",
            "         0.0000e+00, 0.0000e+00, 0.0000e+00, 0.0000e+00],\n",
            "        [4.5677e-01, 5.1862e-01, 2.4614e-02, 0.0000e+00, 0.0000e+00, 0.0000e+00,\n",
            "         0.0000e+00, 0.0000e+00, 0.0000e+00, 0.0000e+00, 0.0000e+00, 0.0000e+00,\n",
            "         0.0000e+00, 0.0000e+00, 0.0000e+00, 0.0000e+00],\n",
            "        [4.5677e-01, 5.1862e-01, 2.4614e-02, 0.0000e+00, 0.0000e+00, 0.0000e+00,\n",
            "         0.0000e+00, 0.0000e+00, 0.0000e+00, 0.0000e+00, 0.0000e+00, 0.0000e+00,\n",
            "         0.0000e+00, 0.0000e+00, 0.0000e+00, 0.0000e+00],\n",
            "        [4.5677e-01, 5.1862e-01, 2.4614e-02, 0.0000e+00, 0.0000e+00, 0.0000e+00,\n",
            "         0.0000e+00, 0.0000e+00, 0.0000e+00, 0.0000e+00, 0.0000e+00, 0.0000e+00,\n",
            "         0.0000e+00, 0.0000e+00, 0.0000e+00, 0.0000e+00]],\n",
            "       grad_fn=<SelectBackward0>)\n"
          ]
        }
      ]
    },
    {
      "cell_type": "markdown",
      "metadata": {
        "id": "h-MwaJ1oBNOe"
      },
      "source": [
        "###### atten_prov * V"
      ]
    },
    {
      "cell_type": "code",
      "metadata": {
        "id": "P2aRJH-Rxyq8",
        "outputId": "5441b1a9-d98a-4146-eedc-9bcebd9d1aba",
        "colab": {
          "base_uri": "https://localhost:8080/"
        }
      },
      "source": [
        "context = torch.matmul(attn_prob, V)\n",
        "print(context.size())"
      ],
      "execution_count": null,
      "outputs": [
        {
          "output_type": "stream",
          "name": "stdout",
          "text": [
            "torch.Size([3, 16, 128])\n"
          ]
        }
      ]
    },
    {
      "cell_type": "markdown",
      "metadata": {
        "id": "WR0Wh1ORBRJK"
      },
      "source": [
        "###### Implementation Class"
      ]
    },
    {
      "cell_type": "code",
      "metadata": {
        "id": "EkXGHazDt1rb"
      },
      "source": [
        "\"\"\" scale dot product attention \"\"\"\n",
        "class ScaledDotProductAttention(nn.Module):\n",
        "    def __init__(self, d_head):\n",
        "        super().__init__()\n",
        "        self.scale = 1 / (d_head ** 0.5)\n",
        "\n",
        "    def forward(self, Q, K, V, attn_mask):\n",
        "        # (bs, n_head, n_q_seq, n_k_seq)\n",
        "        scores = torch.matmul(Q, K.transpose(-1, -2)).mul_(self.scale)\n",
        "        scores.masked_fill_(attn_mask, -1e9)\n",
        "        # (bs, n_head, n_q_seq, n_k_seq)\n",
        "        attn_prob = nn.Softmax(dim=-1)(scores)\n",
        "        # (bs, n_head, n_q_seq, d_v)\n",
        "        context = torch.matmul(attn_prob, V)\n",
        "        # (bs, n_head, n_q_seq, d_v), (bs, n_head, n_q_seq, n_v_seq)\n",
        "        return context, attn_prob"
      ],
      "execution_count": null,
      "outputs": []
    },
    {
      "cell_type": "markdown",
      "metadata": {
        "id": "yK38SMqGsiXL"
      },
      "source": [
        "#### 7. Multi-Head Attention\n",
        "\n",
        "![](https://raw.githubusercontent.com/paul-hyun/paul-hyun.github.io/master/assets/2019-12-19/multi_head_attention.png)"
      ]
    },
    {
      "cell_type": "markdown",
      "metadata": {
        "id": "i7F4mEgmBjuw"
      },
      "source": [
        "###### Input"
      ]
    },
    {
      "cell_type": "code",
      "metadata": {
        "id": "rZyMvxiathB-"
      },
      "source": [
        "Q = input_sums\n",
        "K = input_sums\n",
        "V = input_sums\n",
        "attn_mask = inputs.eq(0).unsqueeze(1).expand(Q.size(0), Q.size(1), K.size(1))\n",
        "\n",
        "batch_size = Q.size(0)\n",
        "n_head = 4"
      ],
      "execution_count": null,
      "outputs": []
    },
    {
      "cell_type": "markdown",
      "metadata": {
        "id": "Mly3n1YcBnR7"
      },
      "source": [
        "###### Multi Head Q, K, V"
      ]
    },
    {
      "cell_type": "code",
      "metadata": {
        "id": "Pes5Jait2EXR",
        "outputId": "ef619a34-be74-4510-c276-9a22d7c1880b",
        "colab": {
          "base_uri": "https://localhost:8080/"
        }
      },
      "source": [
        "W_Q = nn.Linear(d_hidn, n_head * d_head)\n",
        "W_K = nn.Linear(d_hidn, n_head * d_head)\n",
        "W_V = nn.Linear(d_hidn, n_head * d_head)\n",
        "\n",
        "# (bs, n_seq, n_head * d_head)\n",
        "q_s = W_Q(Q)\n",
        "print(q_s.size())\n",
        "# (bs, n_seq, n_head, d_head)\n",
        "q_s = q_s.view(batch_size, -1, n_head, d_head)\n",
        "print(q_s.size())\n",
        "# (bs, n_head, n_seq, d_head)\n",
        "q_s = q_s.transpose(1,2)\n",
        "print(q_s.size())"
      ],
      "execution_count": null,
      "outputs": [
        {
          "output_type": "stream",
          "name": "stdout",
          "text": [
            "torch.Size([3, 16, 256])\n",
            "torch.Size([3, 16, 4, 64])\n",
            "torch.Size([3, 4, 16, 64])\n"
          ]
        }
      ]
    },
    {
      "cell_type": "code",
      "metadata": {
        "id": "oW9s0Oam3ZeG",
        "outputId": "17db263a-be4a-4c7b-bf33-4c93889ef042",
        "colab": {
          "base_uri": "https://localhost:8080/"
        }
      },
      "source": [
        "# (bs, n_head, n_seq, d_head)\n",
        "q_s = W_Q(Q).view(batch_size, -1, n_head, d_head).transpose(1,2)\n",
        "# (bs, n_head, n_seq, d_head)\n",
        "k_s = W_K(K).view(batch_size, -1, n_head, d_head).transpose(1,2)\n",
        "# (bs, n_head, n_seq, d_head)\n",
        "v_s = W_V(V).view(batch_size, -1, n_head, d_head).transpose(1,2)\n",
        "print(q_s.size(), k_s.size(), v_s.size())"
      ],
      "execution_count": null,
      "outputs": [
        {
          "output_type": "stream",
          "name": "stdout",
          "text": [
            "torch.Size([3, 4, 16, 64]) torch.Size([3, 4, 16, 64]) torch.Size([3, 4, 16, 64])\n"
          ]
        }
      ]
    },
    {
      "cell_type": "markdown",
      "metadata": {
        "id": "u73qrnhfBsYR"
      },
      "source": [
        "###### Multi Head Attention Mask"
      ]
    },
    {
      "cell_type": "code",
      "metadata": {
        "id": "n9ItmgzN32fr",
        "outputId": "f1a14234-d7e1-479a-eb2a-3f3ced503bc2",
        "colab": {
          "base_uri": "https://localhost:8080/"
        }
      },
      "source": [
        "print(attn_mask.size())\n",
        "attn_mask = attn_mask.unsqueeze(1).repeat(1, n_head, 1, 1)\n",
        "print(attn_mask.size())"
      ],
      "execution_count": null,
      "outputs": [
        {
          "output_type": "stream",
          "name": "stdout",
          "text": [
            "torch.Size([3, 16, 16])\n",
            "torch.Size([3, 4, 16, 16])\n"
          ]
        }
      ]
    },
    {
      "cell_type": "markdown",
      "metadata": {
        "id": "ubh168SyBxnw"
      },
      "source": [
        "###### Attention"
      ]
    },
    {
      "cell_type": "code",
      "metadata": {
        "id": "ufWp4KXo6yyi",
        "outputId": "e903a01e-5c2b-4d2f-fb80-c0ad004c4aaa",
        "colab": {
          "base_uri": "https://localhost:8080/"
        }
      },
      "source": [
        "scaled_dot_attn = ScaledDotProductAttention(d_head)\n",
        "context, attn_prob = scaled_dot_attn(q_s, k_s, v_s, attn_mask)\n",
        "print(context.size())\n",
        "print(attn_prob.size())"
      ],
      "execution_count": null,
      "outputs": [
        {
          "output_type": "stream",
          "name": "stdout",
          "text": [
            "torch.Size([3, 4, 16, 64])\n",
            "torch.Size([3, 4, 16, 16])\n"
          ]
        }
      ]
    },
    {
      "cell_type": "markdown",
      "metadata": {
        "id": "0zRmgcEfB1lM"
      },
      "source": [
        "###### Concat"
      ]
    },
    {
      "cell_type": "code",
      "metadata": {
        "id": "EjQQPFsn7U8q",
        "outputId": "654c1167-a10d-4f59-ada0-3d5ca2d87606",
        "colab": {
          "base_uri": "https://localhost:8080/"
        }
      },
      "source": [
        "# (bs, n_seq, n_head * d_head)\n",
        "context = context.transpose(1, 2).contiguous().view(batch_size, -1, n_head * d_head)\n",
        "print(context.size())"
      ],
      "execution_count": null,
      "outputs": [
        {
          "output_type": "stream",
          "name": "stdout",
          "text": [
            "torch.Size([3, 16, 256])\n"
          ]
        }
      ]
    },
    {
      "cell_type": "markdown",
      "metadata": {
        "id": "6bxvZK6uB4WS"
      },
      "source": [
        "###### Linear"
      ]
    },
    {
      "cell_type": "code",
      "metadata": {
        "id": "kz3C9ABv7st1",
        "outputId": "b61e45a9-ee51-4ebc-9dae-991c323a6867",
        "colab": {
          "base_uri": "https://localhost:8080/"
        }
      },
      "source": [
        "linear = nn.Linear(n_head * d_head, d_hidn)\n",
        "# (bs, n_seq, d_hidn)\n",
        "output = linear(context)\n",
        "print(output.size())"
      ],
      "execution_count": null,
      "outputs": [
        {
          "output_type": "stream",
          "name": "stdout",
          "text": [
            "torch.Size([3, 16, 128])\n"
          ]
        }
      ]
    },
    {
      "cell_type": "markdown",
      "metadata": {
        "id": "wwcq-wgvB8Hq"
      },
      "source": [
        "###### Implementation Class"
      ]
    },
    {
      "cell_type": "code",
      "metadata": {
        "id": "pVQZieaCB7xp"
      },
      "source": [
        "\"\"\" multi head attention \"\"\"\n",
        "class MultiHeadAttention(nn.Module):\n",
        "    def __init__(self, d_hidn, n_head, d_head):\n",
        "        super().__init__()\n",
        "        self.d_hidn = d_hidn\n",
        "        self.n_head = n_head\n",
        "        self.d_head = d_head\n",
        "\n",
        "        self.W_Q = nn.Linear(d_hidn, n_head * d_head)\n",
        "        self.W_K = nn.Linear(d_hidn, n_head * d_head)\n",
        "        self.W_V = nn.Linear(d_hidn, n_head * d_head)\n",
        "        self.scaled_dot_attn = ScaledDotProductAttention(d_head)\n",
        "        self.linear = nn.Linear(n_head * d_head, d_hidn)\n",
        "\n",
        "    def forward(self, Q, K, V, attn_mask):\n",
        "        batch_size = Q.size(0)\n",
        "        # (bs, n_head, n_q_seq, d_head)\n",
        "        q_s = self.W_Q(Q).view(batch_size, -1, self.n_head, self.d_head).transpose(1,2)\n",
        "        # (bs, n_head, n_k_seq, d_head)\n",
        "        k_s = self.W_K(K).view(batch_size, -1, self.n_head, self.d_head).transpose(1,2)\n",
        "        # (bs, n_head, n_v_seq, d_head)\n",
        "        v_s = self.W_V(V).view(batch_size, -1, self.n_head, self.d_head).transpose(1,2)\n",
        "\n",
        "        # (bs, n_head, n_q_seq, n_k_seq)\n",
        "        attn_mask = attn_mask.unsqueeze(1).repeat(1, self.n_head, 1, 1)\n",
        "\n",
        "        # (bs, n_head, n_q_seq, d_head), (bs, n_head, n_q_seq, n_k_seq)\n",
        "        context, attn_prob = self.scaled_dot_attn(q_s, k_s, v_s, attn_mask)\n",
        "        # (bs, n_head, n_q_seq, h_head * d_head)\n",
        "        context = context.transpose(1, 2).contiguous().view(batch_size, -1, self.n_head * self.d_head)\n",
        "        # (bs, n_head, n_q_seq, e_embd)\n",
        "        output = self.linear(context)\n",
        "        # (bs, n_q_seq, d_hidn), (bs, n_head, n_q_seq, n_k_seq)\n",
        "        return output, attn_prob"
      ],
      "execution_count": null,
      "outputs": []
    },
    {
      "cell_type": "markdown",
      "metadata": {
        "id": "4O7PH-v-SA9B"
      },
      "source": [
        "#### 8. Masked Multi Head Attention"
      ]
    },
    {
      "cell_type": "code",
      "metadata": {
        "id": "sg1uvsXJSAJE",
        "outputId": "3ebdf331-7ec1-474b-daf0-530eb229eedc",
        "colab": {
          "base_uri": "https://localhost:8080/"
        }
      },
      "source": [
        "\"\"\" attention decoder mask \"\"\"\n",
        "def get_attn_decoder_mask(seq):\n",
        "    subsequent_mask = torch.ones_like(seq).unsqueeze(-1).expand(seq.size(0), seq.size(1), seq.size(1))\n",
        "    subsequent_mask = subsequent_mask.triu(diagonal=1) # upper triangular part of a matrix(2-D)\n",
        "    return subsequent_mask\n",
        "\n",
        "\n",
        "Q = input_sums\n",
        "K = input_sums\n",
        "V = input_sums\n",
        "\n",
        "attn_pad_mask = inputs.eq(0).unsqueeze(1).expand(Q.size(0), Q.size(1), K.size(1))\n",
        "print(attn_pad_mask[0])\n",
        "attn_dec_mask = get_attn_decoder_mask(inputs)\n",
        "print(attn_dec_mask[0])\n",
        "attn_mask = torch.gt((attn_pad_mask + attn_dec_mask), 0)\n",
        "print(attn_mask[0])\n",
        "\n",
        "batch_size = Q.size(0)\n",
        "n_head = 2"
      ],
      "execution_count": null,
      "outputs": [
        {
          "output_type": "stream",
          "name": "stdout",
          "text": [
            "tensor([[False, False, False, False, False, False,  True,  True],\n",
            "        [False, False, False, False, False, False,  True,  True],\n",
            "        [False, False, False, False, False, False,  True,  True],\n",
            "        [False, False, False, False, False, False,  True,  True],\n",
            "        [False, False, False, False, False, False,  True,  True],\n",
            "        [False, False, False, False, False, False,  True,  True],\n",
            "        [False, False, False, False, False, False,  True,  True],\n",
            "        [False, False, False, False, False, False,  True,  True]])\n",
            "tensor([[0, 1, 1, 1, 1, 1, 1, 1],\n",
            "        [0, 0, 1, 1, 1, 1, 1, 1],\n",
            "        [0, 0, 0, 1, 1, 1, 1, 1],\n",
            "        [0, 0, 0, 0, 1, 1, 1, 1],\n",
            "        [0, 0, 0, 0, 0, 1, 1, 1],\n",
            "        [0, 0, 0, 0, 0, 0, 1, 1],\n",
            "        [0, 0, 0, 0, 0, 0, 0, 1],\n",
            "        [0, 0, 0, 0, 0, 0, 0, 0]])\n",
            "tensor([[False,  True,  True,  True,  True,  True,  True,  True],\n",
            "        [False, False,  True,  True,  True,  True,  True,  True],\n",
            "        [False, False, False,  True,  True,  True,  True,  True],\n",
            "        [False, False, False, False,  True,  True,  True,  True],\n",
            "        [False, False, False, False, False,  True,  True,  True],\n",
            "        [False, False, False, False, False, False,  True,  True],\n",
            "        [False, False, False, False, False, False,  True,  True],\n",
            "        [False, False, False, False, False, False,  True,  True]])\n"
          ]
        }
      ]
    },
    {
      "cell_type": "code",
      "metadata": {
        "id": "-YdCqAETUSzv",
        "outputId": "8f47a634-b772-4e15-f939-c9a898f1fc96",
        "colab": {
          "base_uri": "https://localhost:8080/"
        }
      },
      "source": [
        "attention = MultiHeadAttention(d_hidn, n_head, d_head)\n",
        "output, attn_prob = attention(Q, K, V, attn_mask)\n",
        "print(output.size(), attn_prob.size())"
      ],
      "execution_count": null,
      "outputs": [
        {
          "output_type": "stream",
          "name": "stdout",
          "text": [
            "torch.Size([2, 8, 128]) torch.Size([2, 2, 8, 8])\n"
          ]
        }
      ]
    },
    {
      "cell_type": "markdown",
      "metadata": {
        "id": "xPiW76dzGy8D"
      },
      "source": [
        "#### 9. Feed Forward\n",
        "\n",
        "![](https://raw.githubusercontent.com/paul-hyun/paul-hyun.github.io/master/assets/2019-12-19/feed-forward.png)"
      ]
    },
    {
      "cell_type": "markdown",
      "metadata": {
        "id": "nLWqtn7UHGz-"
      },
      "source": [
        "###### f1 (Liear)"
      ]
    },
    {
      "cell_type": "code",
      "metadata": {
        "id": "U0iAPIfCHGaa",
        "outputId": "3a9cbbdf-aae9-4bbf-a901-f80cabb68385",
        "colab": {
          "base_uri": "https://localhost:8080/"
        }
      },
      "source": [
        "conv1 = nn.Conv1d(in_channels=d_hidn, out_channels=d_hidn * 4, kernel_size=1)\n",
        "# (bs, d_hidn * 4, n_seq)\n",
        "ff_1 = conv1(output.transpose(1, 2))\n",
        "print(ff_1.size())"
      ],
      "execution_count": null,
      "outputs": [
        {
          "output_type": "stream",
          "name": "stdout",
          "text": [
            "torch.Size([2, 512, 8])\n"
          ]
        }
      ]
    },
    {
      "cell_type": "markdown",
      "metadata": {
        "id": "ezEDjlVtIqf0"
      },
      "source": [
        "###### Activation (relu or gelu)\n",
        "\n",
        "![](https://raw.githubusercontent.com/paul-hyun/paul-hyun.github.io/master/assets/2019-12-19/activation.png)"
      ]
    },
    {
      "cell_type": "code",
      "metadata": {
        "id": "x7mTDJZiIOrL"
      },
      "source": [
        "# active = F.relu\n",
        "active = F.gelu\n",
        "ff_2 = active(ff_1)"
      ],
      "execution_count": null,
      "outputs": []
    },
    {
      "cell_type": "markdown",
      "metadata": {
        "id": "fAcrKhAtIvn5"
      },
      "source": [
        "###### f3 (Liear)"
      ]
    },
    {
      "cell_type": "code",
      "metadata": {
        "id": "xGRsfIOcOgLR",
        "outputId": "217cd555-2b4a-4269-bff1-f95b88121534",
        "colab": {
          "base_uri": "https://localhost:8080/"
        }
      },
      "source": [
        "conv2 = nn.Conv1d(in_channels=d_hidn * 4, out_channels=d_hidn, kernel_size=1)\n",
        "ff_3 = conv2(ff_2).transpose(1, 2)\n",
        "print(ff_3.size())"
      ],
      "execution_count": null,
      "outputs": [
        {
          "output_type": "stream",
          "name": "stdout",
          "text": [
            "torch.Size([2, 8, 128])\n"
          ]
        }
      ]
    },
    {
      "cell_type": "markdown",
      "metadata": {
        "id": "sE6-A3OhIzLo"
      },
      "source": [
        "###### Implementation Class"
      ]
    },
    {
      "cell_type": "code",
      "metadata": {
        "id": "TaRkgC4CRs60"
      },
      "source": [
        "\"\"\" feed forward \"\"\"\n",
        "class PoswiseFeedForwardNet(nn.Module):\n",
        "    def __init__(self, d_hidn):\n",
        "        super().__init__()\n",
        "\n",
        "        self.conv1 = nn.Conv1d(in_channels=self.config.d_hidn, out_channels=self.config.d_hidn * 4, kernel_size=1)\n",
        "        self.conv2 = nn.Conv1d(in_channels=self.config.d_hidn * 4, out_channels=self.config.d_hidn, kernel_size=1)\n",
        "        self.active = F.gelu\n",
        "\n",
        "    def forward(self, inputs):\n",
        "        # (bs, d_ff, n_seq)\n",
        "        output = self.active(self.conv1(inputs.transpose(1, 2)))\n",
        "        # (bs, n_seq, d_hidn)\n",
        "        output = self.conv2(output).transpose(1, 2)\n",
        "        # (bs, n_seq, d_hidn)\n",
        "        return output"
      ],
      "execution_count": null,
      "outputs": []
    }
  ]
}